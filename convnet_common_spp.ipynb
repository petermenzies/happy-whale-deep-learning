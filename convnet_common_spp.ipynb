{
 "cells": [
  {
   "cell_type": "markdown",
   "id": "7d0f1642-7f7c-4f57-b68e-82fd4c6769a7",
   "metadata": {
    "id": "7d0f1642-7f7c-4f57-b68e-82fd4c6769a7",
    "tags": []
   },
   "source": [
    "## Classifying whale and dolphin images from the Happywhale Kaggle competition"
   ]
  },
  {
   "cell_type": "code",
   "execution_count": 23,
   "id": "8bce4a38-95b1-4fe7-acfe-dcae7f6971ff",
   "metadata": {
    "id": "8bce4a38-95b1-4fe7-acfe-dcae7f6971ff"
   },
   "outputs": [
    {
     "name": "stdout",
     "output_type": "stream",
     "text": [
      "[Errno 2] No such file or directory: 'whales-deep-learning/'\n",
      "/home/jovyan/whales-deep-learning\n"
     ]
    }
   ],
   "source": [
    "import os\n",
    "import random\n",
    "import pandas as pd\n",
    "import shutil\n",
    "import numpy as np\n",
    "import tensorflow as tf\n",
    "from tensorflow import keras\n",
    "\n",
    "# option to recreate file structure with original 5000 image subset\n",
    "redo = False\n",
    "\n",
    "# changing directory for planetary computer\n",
    "# %cd whales-deep-learning/"
   ]
  },
  {
   "cell_type": "code",
   "execution_count": 6,
   "id": "11599759-61c5-480d-82c8-f6510de0b719",
   "metadata": {
    "colab": {
     "base_uri": "https://localhost:8080/"
    },
    "id": "11599759-61c5-480d-82c8-f6510de0b719",
    "outputId": "6581e2fe-def8-424d-89be-cc34a82ba7d4"
   },
   "outputs": [],
   "source": [
    "# checking if the notebook is running in google colab - if it is, the file paths will be google drive paths\n",
    "try:\n",
    "  import google.colab\n",
    "  IN_COLAB = True\n",
    "except:\n",
    "  IN_COLAB = False\n",
    "\n",
    "if IN_COLAB == True:\n",
    "  from google.colab import drive\n",
    "  drive.mount('/content/drive/')"
   ]
  },
  {
   "cell_type": "markdown",
   "id": "4b86e3ca-220e-42fc-a234-a79506e150cb",
   "metadata": {
    "id": "4b86e3ca-220e-42fc-a234-a79506e150cb"
   },
   "source": [
    "#### Creating file structure"
   ]
  },
  {
   "cell_type": "code",
   "execution_count": 21,
   "id": "fd91fc0d-d9db-4a3c-8362-1860411ec4da",
   "metadata": {
    "colab": {
     "base_uri": "https://localhost:8080/"
    },
    "id": "fd91fc0d-d9db-4a3c-8362-1860411ec4da",
    "outputId": "e0f61e2c-c5ca-47a6-8c79-ce7c552193c8"
   },
   "outputs": [
    {
     "data": {
      "text/plain": [
       "array(['melon_headed_whale', 'humpback_whale', 'false_killer_whale',\n",
       "       'bottlenose_dolphin', 'beluga', 'minke_whale', 'fin_whale',\n",
       "       'blue_whale', 'gray_whale', 'southern_right_whale',\n",
       "       'common_dolphin', 'killer_whale', 'pilot_whale', 'dusky_dolphin',\n",
       "       'long_finned_pilot_whale', 'sei_whale', 'spinner_dolphin',\n",
       "       'cuviers_beaked_whale', 'spotted_dolphin', 'globis',\n",
       "       'brydes_whale', 'commersons_dolphin', 'white_sided_dolphin',\n",
       "       'short_finned_pilot_whale', 'rough_toothed_dolphin',\n",
       "       'pantropic_spotted_dolphin', 'pygmy_killer_whale',\n",
       "       'frasiers_dolphin'], dtype=object)"
      ]
     },
     "execution_count": 21,
     "metadata": {},
     "output_type": "execute_result"
    }
   ],
   "source": [
    "if IN_COLAB == True:\n",
    "  wd = '/content/drive/Shareddrives/Whales-ML/'\n",
    "  df = pd.read_csv(wd + 'train.csv')\n",
    "else:\n",
    "  df = pd.read_csv('data/train.csv')\n",
    "\n",
    "# correcting mispelled species\n",
    "df['species'] = df['species'].replace('kiler_whale', 'killer_whale')\n",
    "df['species'] = df['species'].replace('bottlenose_dolpin', 'bottlenose_dolphin')\n",
    "image_names = df['image']\n",
    "sp_names = pd.unique(df['species'])\n",
    "sp_names"
   ]
  },
  {
   "cell_type": "code",
   "execution_count": 8,
   "id": "7kev58Qw38gX",
   "metadata": {
    "id": "7kev58Qw38gX"
   },
   "outputs": [],
   "source": [
    "# setting either google drive or taylor paths\n",
    "if IN_COLAB == True:\n",
    "  train_subset_dir = '/content/drive/Shareddrives/Whales-ML/common_subset/train_subset/'\n",
    "  validation_subset_dir = '/content/drive/Shareddrives/Whales-ML/common_subset/validation_subset/'\n",
    "  test_subset_dir = '/content/drive/Shareddrives/Whales-ML/common_subset/test_subset/'\n",
    "else:\n",
    "    train_subset_dir = 'data/common_subset/train_subset/'\n",
    "    validation_subset_dir = 'data/common_subset/validation_subset/'\n",
    "    test_subset_dir = 'data/common_subset/test_subset/'"
   ]
  },
  {
   "cell_type": "code",
   "execution_count": 9,
   "id": "f229f0b7-a94b-481b-9b9c-88c3c5a00266",
   "metadata": {
    "id": "f229f0b7-a94b-481b-9b9c-88c3c5a00266",
    "jupyter": {
     "source_hidden": true
    },
    "tags": []
   },
   "outputs": [],
   "source": [
    "if redo == True:\n",
    "\n",
    "    os.mkdir(train_subset_dir)\n",
    "    os.mkdir(validation_subset_dir)\n",
    "\n",
    "    for i in range(0, len(sp_names)):\n",
    "        os.mkdir(train_subset_dir + sp_names[i])\n",
    "        os.mkdir(validation_subset_dir + sp_names[i])"
   ]
  },
  {
   "cell_type": "markdown",
   "id": "16557f53-feeb-42b4-ad8e-3ef9c0e1beeb",
   "metadata": {
    "id": "16557f53-feeb-42b4-ad8e-3ef9c0e1beeb"
   },
   "source": [
    "#### Copying files into new directory structure"
   ]
  },
  {
   "cell_type": "code",
   "execution_count": 10,
   "id": "f170b408-4a0f-4f9b-b061-36b4822cfe00",
   "metadata": {
    "id": "f170b408-4a0f-4f9b-b061-36b4822cfe00",
    "jupyter": {
     "source_hidden": true
    },
    "tags": []
   },
   "outputs": [],
   "source": [
    "if redo == True:\n",
    "\n",
    "    train_dir = 'data/train_images/'\n",
    "    train_nsamples = len(os.listdir(train_dir))\n",
    "\n",
    "    # randomly selecting 4000 training images and 1000 validation images\n",
    "    seed_value = 71993\n",
    "    random.seed(seed_value)\n",
    "    sample_indices = random.sample(range(0, train_nsamples), 5000)\n",
    "    train_indices = sample_indices[0:4000]\n",
    "    validation_indices = sample_indices[4000:5000]\n",
    "\n",
    "    train_subset_df = df.filter(items = train_indices, axis=0)\n",
    "    validation_subset_df = df.filter(items = validation_indices, axis=0)\n",
    "    \n",
    "    for sp in sp_names:\n",
    "        sp_df = train_subset_df[train_subset_df['species']==sp]\n",
    "\n",
    "        for i in range(0, len(sp_df)):\n",
    "            src = train_dir + sp_df['image'].iloc[i]\n",
    "            dst = train_subset_dir + sp + '/' + sp_df['image'].iloc[i]\n",
    "            shutil.copyfile(src, dst)\n",
    "\n",
    "        sp_df = validation_subset_df[validation_subset_df['species']==sp]\n",
    "\n",
    "        for i in range(0, len(sp_df)):\n",
    "            src = train_dir + sp_df['image'].iloc[i]\n",
    "            dst = validation_subset_dir + sp + '/' + sp_df['image'].iloc[i]\n",
    "            shutil.copyfile(src, dst)\n"
   ]
  },
  {
   "cell_type": "markdown",
   "id": "8c9ed63d-bdf1-4bb2-8991-149360f48d2e",
   "metadata": {
    "id": "8c9ed63d-bdf1-4bb2-8991-149360f48d2e"
   },
   "source": [
    "#### Looking at the representation of each species in the subset"
   ]
  },
  {
   "cell_type": "code",
   "execution_count": 11,
   "id": "1a72757a-f355-4b3f-bbf7-594be9f61f94",
   "metadata": {
    "colab": {
     "base_uri": "https://localhost:8080/"
    },
    "id": "1a72757a-f355-4b3f-bbf7-594be9f61f94",
    "outputId": "6fdd3d95-20f3-46b6-89f5-527691c081aa",
    "tags": []
   },
   "outputs": [
    {
     "name": "stdout",
     "output_type": "stream",
     "text": [
      "fin_whale: 24\n",
      "beluga: 157\n",
      "bottlenose_dolphin: 193\n",
      "humpback_whale: 121\n",
      "minke_whale: 23\n",
      "false_killer_whale: 63\n",
      "killer_whale: 39\n",
      "spinner_dolphin: 30\n",
      "blue_whale: 71\n",
      "dusky_dolphin: 52\n",
      "melon_headed_whale: 27\n",
      "----\n",
      "fin_whale: 6\n",
      "beluga: 32\n",
      "bottlenose_dolphin: 47\n",
      "humpback_whale: 35\n",
      "minke_whale: 3\n",
      "false_killer_whale: 12\n",
      "killer_whale: 15\n",
      "spinner_dolphin: 8\n",
      "blue_whale: 16\n",
      "dusky_dolphin: 18\n",
      "melon_headed_whale: 8\n"
     ]
    }
   ],
   "source": [
    "n_train = 0\n",
    "n_val = 0\n",
    "n_test = 0\n",
    "\n",
    "for sp in os.listdir(train_subset_dir):\n",
    "    sp_dir = train_subset_dir + sp\n",
    "    nsamples = len(os.listdir(sp_dir))\n",
    "    n_train += nsamples\n",
    "    print(f'{sp}: {nsamples}')\n",
    "    \n",
    "print('----')\n",
    "    \n",
    "for sp in os.listdir(validation_subset_dir):\n",
    "    sp_dir = validation_subset_dir + sp\n",
    "    nsamples = len(os.listdir(sp_dir))\n",
    "    n_val += nsamples\n",
    "    print(f'{sp}: {nsamples}')\n",
    "    \n",
    "for sp in os.listdir(test_subset_dir):\n",
    "    sp_dir = test_subset_dir + sp\n",
    "    nsamples = len(os.listdir(sp_dir))\n",
    "    n_test += nsamples"
   ]
  },
  {
   "cell_type": "markdown",
   "id": "7jM2Z2ikyjny",
   "metadata": {
    "id": "7jM2Z2ikyjny"
   },
   "source": [
    "## Data generator"
   ]
  },
  {
   "cell_type": "code",
   "execution_count": 12,
   "id": "r8-w1nJy4q2m",
   "metadata": {
    "colab": {
     "base_uri": "https://localhost:8080/"
    },
    "id": "r8-w1nJy4q2m",
    "outputId": "6e534094-b705-498a-96a8-a32124da0780"
   },
   "outputs": [
    {
     "name": "stdout",
     "output_type": "stream",
     "text": [
      "Found 800 images belonging to 11 classes.\n",
      "Found 200 images belonging to 11 classes.\n",
      "Found 100 images belonging to 11 classes.\n"
     ]
    }
   ],
   "source": [
    "from tensorflow.keras.preprocessing.image import ImageDataGenerator\n",
    "\n",
    "# we should mess around with the batch size\n",
    "batch_size = 50\n",
    "\n",
    "# creating values for 'steps_per_epoch' based on batch_size\n",
    "train_steps = n_train // batch_size\n",
    "validation_steps = n_val // batch_size\n",
    "\n",
    "train_datagen = ImageDataGenerator(rescale=1./255)\n",
    "validation_datagen = ImageDataGenerator(rescale=1./255)\n",
    "test_datagen = ImageDataGenerator(rescale=1./255)\n",
    "\n",
    "target_size = (150, 150)\n",
    "\n",
    "train_generator = train_datagen.flow_from_directory(\n",
    "        train_subset_dir,\n",
    "        target_size=target_size,\n",
    "        batch_size=batch_size,\n",
    "        class_mode='categorical')\n",
    "\n",
    "validation_generator = validation_datagen.flow_from_directory(\n",
    "        validation_subset_dir,\n",
    "        target_size=target_size,\n",
    "        batch_size=batch_size,\n",
    "        class_mode='categorical')\n",
    "\n",
    "test_generator = test_datagen.flow_from_directory(\n",
    "        test_subset_dir,\n",
    "        target_size=target_size,\n",
    "        batch_size=n_test,\n",
    "        class_mode='categorical')\n",
    "\n",
    "n_class = train_generator.num_classes\n",
    "input_shape = train_generator.image_shape"
   ]
  },
  {
   "cell_type": "code",
   "execution_count": 13,
   "id": "iTtivIap5Cj7",
   "metadata": {
    "colab": {
     "base_uri": "https://localhost:8080/"
    },
    "id": "iTtivIap5Cj7",
    "outputId": "547a0d73-9d39-4013-d985-ee5efbeb0847"
   },
   "outputs": [
    {
     "name": "stdout",
     "output_type": "stream",
     "text": [
      "data batch shape: (50, 150, 150, 3)\n",
      "labels batch shape: (50, 11)\n"
     ]
    }
   ],
   "source": [
    "for data_batch, labels_batch in train_generator:\n",
    "    print('data batch shape:', data_batch.shape)\n",
    "    print('labels batch shape:', labels_batch.shape)\n",
    "    break"
   ]
  },
  {
   "cell_type": "markdown",
   "id": "962b26e8-2479-4efc-b7ee-834f16ea47c2",
   "metadata": {},
   "source": [
    "## Building network"
   ]
  },
  {
   "cell_type": "code",
   "execution_count": 38,
   "id": "d340a51d-1b55-4bfe-ba45-848929fad1d5",
   "metadata": {},
   "outputs": [],
   "source": [
    "from tensorflow.keras import models\n",
    "from tensorflow.keras import layers\n",
    "\n",
    "# using this call back reduces the learning rate when accuracy starts to plateau to reduce overfitting\n",
    "my_callbacks = [tf.keras.callbacks.ReduceLROnPlateau()]\n",
    "\n",
    "model = models.Sequential()\n",
    "\n",
    "model.add(layers.Conv2D(16, (6, 6), strides = (1, 1), input_shape=input_shape))\n",
    "model.add(layers.BatchNormalization(axis = 3))\n",
    "model.add(layers.Activation('relu'))\n",
    "\n",
    "model.add(layers.MaxPooling2D((2, 2)))\n",
    "model.add(layers.Conv2D(32, (3, 3), strides = (1,1)))\n",
    "model.add(layers.Activation('relu'))\n",
    "model.add(layers.AveragePooling2D((3, 3)))\n",
    "\n",
    "model.add(layers.Flatten())\n",
    "model.add(layers.Dense(512, activation=\"relu\"))\n",
    "model.add(layers.Dropout(0.75))\n",
    "\n",
    "model.add(layers.Dense(n_class, activation='softmax'))\n",
    "\n",
    "model.compile(loss='categorical_crossentropy',\n",
    "              optimizer=tf.keras.optimizers.Adam(learning_rate=1e-4),\n",
    "              metrics=['acc'])"
   ]
  },
  {
   "cell_type": "markdown",
   "id": "cfca3040-57ac-49d3-9d12-e60ef6d4d4c1",
   "metadata": {},
   "source": [
    "## Training"
   ]
  },
  {
   "cell_type": "code",
   "execution_count": 39,
   "id": "9YuI8Aoo8d9A",
   "metadata": {
    "colab": {
     "base_uri": "https://localhost:8080/",
     "height": 392
    },
    "id": "9YuI8Aoo8d9A",
    "outputId": "7cf1ac1b-bd82-46cf-cb03-0fbf45255dc8"
   },
   "outputs": [
    {
     "name": "stdout",
     "output_type": "stream",
     "text": [
      "Epoch 1/35\n",
      "16/16 [==============================] - 54s 3s/step - loss: 2.6136 - acc: 0.2367 - val_loss: 2.2411 - val_acc: 0.3150\n",
      "Epoch 2/35\n",
      "16/16 [==============================] - 51s 3s/step - loss: 1.7474 - acc: 0.4299 - val_loss: 2.2209 - val_acc: 0.3000\n",
      "Epoch 3/35\n",
      "16/16 [==============================] - 51s 3s/step - loss: 1.6658 - acc: 0.4649 - val_loss: 2.1684 - val_acc: 0.3500\n",
      "Epoch 4/35\n",
      "16/16 [==============================] - 52s 3s/step - loss: 1.5568 - acc: 0.5031 - val_loss: 2.1195 - val_acc: 0.3850\n",
      "Epoch 5/35\n",
      "16/16 [==============================] - 52s 3s/step - loss: 1.4231 - acc: 0.5431 - val_loss: 2.0703 - val_acc: 0.3450\n",
      "Epoch 6/35\n",
      "16/16 [==============================] - 52s 3s/step - loss: 1.4408 - acc: 0.5293 - val_loss: 2.0206 - val_acc: 0.3600\n",
      "Epoch 7/35\n",
      "16/16 [==============================] - 52s 3s/step - loss: 1.3552 - acc: 0.5532 - val_loss: 2.0128 - val_acc: 0.3800\n",
      "Epoch 8/35\n",
      "16/16 [==============================] - 52s 3s/step - loss: 1.2775 - acc: 0.5656 - val_loss: 1.9457 - val_acc: 0.3950\n",
      "Epoch 9/35\n",
      "16/16 [==============================] - 52s 3s/step - loss: 1.3014 - acc: 0.6003 - val_loss: 1.8871 - val_acc: 0.4550\n",
      "Epoch 10/35\n",
      "16/16 [==============================] - 52s 3s/step - loss: 1.1878 - acc: 0.6097 - val_loss: 1.8672 - val_acc: 0.4550\n",
      "Epoch 11/35\n",
      "16/16 [==============================] - 52s 3s/step - loss: 1.1008 - acc: 0.6178 - val_loss: 1.8558 - val_acc: 0.4300\n",
      "Epoch 12/35\n",
      "16/16 [==============================] - 52s 3s/step - loss: 1.1168 - acc: 0.6349 - val_loss: 1.7811 - val_acc: 0.4550\n",
      "Epoch 13/35\n",
      "16/16 [==============================] - 52s 3s/step - loss: 1.0297 - acc: 0.6707 - val_loss: 1.7272 - val_acc: 0.5000\n",
      "Epoch 14/35\n",
      "16/16 [==============================] - 52s 3s/step - loss: 0.9473 - acc: 0.6876 - val_loss: 1.6883 - val_acc: 0.4800\n",
      "Epoch 15/35\n",
      "16/16 [==============================] - 52s 3s/step - loss: 0.9973 - acc: 0.6928 - val_loss: 1.6454 - val_acc: 0.5250\n",
      "Epoch 16/35\n",
      "16/16 [==============================] - 51s 3s/step - loss: 0.8434 - acc: 0.7305 - val_loss: 1.6169 - val_acc: 0.5250\n",
      "Epoch 17/35\n",
      "16/16 [==============================] - 52s 3s/step - loss: 0.9278 - acc: 0.7002 - val_loss: 1.5768 - val_acc: 0.5400\n",
      "Epoch 18/35\n",
      "16/16 [==============================] - 52s 3s/step - loss: 0.8284 - acc: 0.7203 - val_loss: 1.5755 - val_acc: 0.5150\n",
      "Epoch 19/35\n",
      "16/16 [==============================] - 52s 3s/step - loss: 0.7990 - acc: 0.7360 - val_loss: 1.4680 - val_acc: 0.5450\n",
      "Epoch 20/35\n",
      "16/16 [==============================] - 52s 3s/step - loss: 0.8002 - acc: 0.7235 - val_loss: 1.5096 - val_acc: 0.5250\n",
      "Epoch 21/35\n",
      "16/16 [==============================] - 52s 3s/step - loss: 0.8116 - acc: 0.7470 - val_loss: 1.4499 - val_acc: 0.5950\n",
      "Epoch 22/35\n",
      "16/16 [==============================] - 51s 3s/step - loss: 0.6980 - acc: 0.7905 - val_loss: 1.4776 - val_acc: 0.5200\n",
      "Epoch 23/35\n",
      "16/16 [==============================] - 51s 3s/step - loss: 0.7036 - acc: 0.7548 - val_loss: 1.4145 - val_acc: 0.5750\n",
      "Epoch 24/35\n",
      "16/16 [==============================] - 52s 3s/step - loss: 0.6493 - acc: 0.7970 - val_loss: 1.3526 - val_acc: 0.5950\n",
      "Epoch 25/35\n",
      "16/16 [==============================] - 52s 3s/step - loss: 0.5618 - acc: 0.8293 - val_loss: 1.3032 - val_acc: 0.6150\n",
      "Epoch 26/35\n",
      "16/16 [==============================] - 52s 3s/step - loss: 0.6114 - acc: 0.8001 - val_loss: 1.3324 - val_acc: 0.5450\n",
      "Epoch 27/35\n",
      "16/16 [==============================] - 52s 3s/step - loss: 0.6004 - acc: 0.8047 - val_loss: 1.2734 - val_acc: 0.5850\n",
      "Epoch 28/35\n",
      "16/16 [==============================] - 52s 3s/step - loss: 0.5556 - acc: 0.8395 - val_loss: 1.2364 - val_acc: 0.6150\n",
      "Epoch 29/35\n",
      "16/16 [==============================] - 52s 3s/step - loss: 0.5451 - acc: 0.8328 - val_loss: 1.2075 - val_acc: 0.5900\n",
      "Epoch 30/35\n",
      "16/16 [==============================] - 52s 3s/step - loss: 0.4773 - acc: 0.8586 - val_loss: 1.2419 - val_acc: 0.6200\n",
      "Epoch 31/35\n",
      "16/16 [==============================] - 52s 3s/step - loss: 0.4687 - acc: 0.8497 - val_loss: 1.1859 - val_acc: 0.6300\n",
      "Epoch 32/35\n",
      "16/16 [==============================] - 52s 3s/step - loss: 0.4563 - acc: 0.8729 - val_loss: 1.1791 - val_acc: 0.6300\n",
      "Epoch 33/35\n",
      "16/16 [==============================] - 52s 3s/step - loss: 0.4701 - acc: 0.8595 - val_loss: 1.1883 - val_acc: 0.5900\n",
      "Epoch 34/35\n",
      "16/16 [==============================] - 52s 3s/step - loss: 0.4682 - acc: 0.8457 - val_loss: 1.1757 - val_acc: 0.6100\n",
      "Epoch 35/35\n",
      "16/16 [==============================] - 52s 3s/step - loss: 0.3975 - acc: 0.8998 - val_loss: 1.1875 - val_acc: 0.6200\n"
     ]
    }
   ],
   "source": [
    "history = model.fit(\n",
    "      train_generator,\n",
    "      steps_per_epoch=train_steps,\n",
    "      epochs=35,\n",
    "      validation_data=validation_generator,\n",
    "      validation_steps=validation_steps,\n",
    "      callbacks=my_callbacks)"
   ]
  },
  {
   "cell_type": "markdown",
   "id": "201ebbad",
   "metadata": {},
   "source": [
    "## Evaluating"
   ]
  },
  {
   "cell_type": "code",
   "execution_count": 40,
   "id": "ixAQlxRM-WNH",
   "metadata": {
    "id": "ixAQlxRM-WNH"
   },
   "outputs": [
    {
     "data": {
      "text/plain": [
       "<matplotlib.legend.Legend at 0x7f574430af40>"
      ]
     },
     "execution_count": 40,
     "metadata": {},
     "output_type": "execute_result"
    },
    {
     "data": {
      "image/png": "[encoded data removed]",
      "text/plain": [
       "<Figure size 432x288 with 1 Axes>"
      ]
     },
     "metadata": {
      "needs_background": "light"
     },
     "output_type": "display_data"
    }
   ],
   "source": [
    "import matplotlib.pyplot as plt\n",
    "\n",
    "loss = history.history['loss']\n",
    "val_loss = history.history['val_loss']\n",
    "acc = history.history['acc']\n",
    "val_acc = history.history['val_acc']\n",
    "\n",
    "epochs = range(1, len(acc) + 1)\n",
    "\n",
    "plt.plot(epochs, loss, 'bo', label='Training loss')\n",
    "plt.plot(epochs, val_loss, 'b', label='Validation loss')\n",
    "plt.title('Training and validation loss')\n",
    "plt.xlabel('Epochs')\n",
    "plt.ylabel('Loss')\n",
    "plt.legend()"
   ]
  },
  {
   "cell_type": "code",
   "execution_count": 41,
   "id": "304885b0-32f5-4f99-b7c7-e10112c362bf",
   "metadata": {},
   "outputs": [
    {
     "data": {
      "text/plain": [
       "<matplotlib.legend.Legend at 0x7f574431ba90>"
      ]
     },
     "execution_count": 41,
     "metadata": {},
     "output_type": "execute_result"
    },
    {
     "data": {
      "image/png": "[encoded data removed]",
      "text/plain": [
       "<Figure size 432x288 with 1 Axes>"
      ]
     },
     "metadata": {
      "needs_background": "light"
     },
     "output_type": "display_data"
    }
   ],
   "source": [
    "plt.plot(epochs, acc, 'bo', label='Training acc')\n",
    "plt.plot(epochs, val_acc, 'b', label='Validation acc')\n",
    "plt.title('Training and validation accuracy')\n",
    "plt.xlabel('Epochs')\n",
    "plt.ylabel('Accuracy')\n",
    "plt.legend()"
   ]
  },
  {
   "cell_type": "code",
   "execution_count": 42,
   "id": "c884378d-f7df-4dea-8b19-f8b94efdb954",
   "metadata": {},
   "outputs": [
    {
     "name": "stdout",
     "output_type": "stream",
     "text": [
      "1/1 [==============================] - 6s 6s/step - loss: 1.3870 - acc: 0.5200\n",
      "Test accuracy: 0.5199999809265137\n"
     ]
    }
   ],
   "source": [
    "# test accuracy\n",
    "test_results = model.evaluate(test_generator)\n",
    "test_acc = test_results[1]\n",
    "print(f\"Test accuracy: {test_acc}\")"
   ]
  }
 ],
 "metadata": {
  "colab": {
   "name": "convnet_common_spp.ipynb",
   "provenance": []
  },
  "kernelspec": {
   "display_name": "Python 3 (ipykernel)",
   "language": "python",
   "name": "python3"
  },
  "language_info": {
   "codemirror_mode": {
    "name": "ipython",
    "version": 3
   },
   "file_extension": ".py",
   "mimetype": "text/x-python",
   "name": "python",
   "nbconvert_exporter": "python",
   "pygments_lexer": "ipython3",
   "version": "3.8.12"
  }
 },
 "nbformat": 4,
 "nbformat_minor": 5
}
