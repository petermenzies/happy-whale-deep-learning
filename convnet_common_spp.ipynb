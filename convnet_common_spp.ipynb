{
 "cells": [
  {
   "cell_type": "markdown",
   "id": "7d0f1642-7f7c-4f57-b68e-82fd4c6769a7",
   "metadata": {
    "id": "7d0f1642-7f7c-4f57-b68e-82fd4c6769a7",
    "tags": []
   },
   "source": [
    "### This nb creates a subset of the Happywhale training images and gets them all set up for use with `ImageDataGenerator`"
   ]
  },
  {
   "cell_type": "markdown",
   "id": "00041c7e-0a47-4d44-8c6a-e2cd0de8114e",
   "metadata": {
    "id": "00041c7e-0a47-4d44-8c6a-e2cd0de8114e"
   },
   "source": [
    "If we decide to use the full set, it will be easy enough to adapt this code to structure all images for the data generator"
   ]
  },
  {
   "cell_type": "code",
   "execution_count": 1,
   "id": "8bce4a38-95b1-4fe7-acfe-dcae7f6971ff",
   "metadata": {
    "id": "8bce4a38-95b1-4fe7-acfe-dcae7f6971ff"
   },
   "outputs": [
    {
     "name": "stderr",
     "output_type": "stream",
     "text": [
      "2022-03-05 21:34:35.248173: I tensorflow/stream_executor/platform/default/dso_loader.cc:49] Successfully opened dynamic library libcudart.so.10.1\n"
     ]
    }
   ],
   "source": [
    "import os\n",
    "import random\n",
    "import pandas as pd\n",
    "import shutil\n",
    "import numpy as np\n",
    "import tensorflow as tf\n",
    "from tensorflow import keras\n",
    "\n",
    "redo = False"
   ]
  },
  {
   "cell_type": "code",
   "execution_count": 2,
   "id": "11599759-61c5-480d-82c8-f6510de0b719",
   "metadata": {
    "colab": {
     "base_uri": "https://localhost:8080/"
    },
    "id": "11599759-61c5-480d-82c8-f6510de0b719",
    "outputId": "6581e2fe-def8-424d-89be-cc34a82ba7d4"
   },
   "outputs": [],
   "source": [
    "try:\n",
    "  import google.colab\n",
    "  IN_COLAB = True\n",
    "except:\n",
    "  IN_COLAB = False\n",
    "\n",
    "if IN_COLAB == True:\n",
    "  from google.colab import drive\n",
    "  drive.mount('/content/drive/')"
   ]
  },
  {
   "cell_type": "markdown",
   "id": "4b86e3ca-220e-42fc-a234-a79506e150cb",
   "metadata": {
    "id": "4b86e3ca-220e-42fc-a234-a79506e150cb"
   },
   "source": [
    "#### Creating file structure"
   ]
  },
  {
   "cell_type": "code",
   "execution_count": 3,
   "id": "fd91fc0d-d9db-4a3c-8362-1860411ec4da",
   "metadata": {
    "colab": {
     "base_uri": "https://localhost:8080/"
    },
    "id": "fd91fc0d-d9db-4a3c-8362-1860411ec4da",
    "outputId": "e0f61e2c-c5ca-47a6-8c79-ce7c552193c8"
   },
   "outputs": [
    {
     "data": {
      "text/plain": [
       "array(['melon_headed_whale', 'humpback_whale', 'false_killer_whale',\n",
       "       'bottlenose_dolphin', 'beluga', 'minke_whale', 'fin_whale',\n",
       "       'blue_whale', 'gray_whale', 'southern_right_whale',\n",
       "       'common_dolphin', 'killer_whale', 'pilot_whale', 'dusky_dolphin',\n",
       "       'long_finned_pilot_whale', 'sei_whale', 'spinner_dolphin',\n",
       "       'cuviers_beaked_whale', 'spotted_dolphin', 'globis',\n",
       "       'brydes_whale', 'commersons_dolphin', 'white_sided_dolphin',\n",
       "       'short_finned_pilot_whale', 'rough_toothed_dolphin',\n",
       "       'pantropic_spotted_dolphin', 'pygmy_killer_whale',\n",
       "       'frasiers_dolphin'], dtype=object)"
      ]
     },
     "execution_count": 3,
     "metadata": {},
     "output_type": "execute_result"
    }
   ],
   "source": [
    "if IN_COLAB == True:\n",
    "  wd = '/content/drive/Shareddrives/Whales-ML/'\n",
    "  df = pd.read_csv(wd + 'train.csv')\n",
    "else:\n",
    "  df = pd.read_csv('data/train.csv')\n",
    "\n",
    "# correcting mispelled species\n",
    "df['species'] = df['species'].replace('kiler_whale', 'killer_whale')\n",
    "df['species'] = df['species'].replace('bottlenose_dolpin', 'bottlenose_dolphin')\n",
    "image_names = df['image']\n",
    "sp_names = pd.unique(df['species'])\n",
    "sp_names"
   ]
  },
  {
   "cell_type": "code",
   "execution_count": 4,
   "id": "7kev58Qw38gX",
   "metadata": {
    "id": "7kev58Qw38gX"
   },
   "outputs": [],
   "source": [
    "if IN_COLAB == True:\n",
    "  train_subset_dir = '/content/drive/Shareddrives/Whales-ML/subset/train_subset/'\n",
    "  validation_subset_dir = '/content/drive/Shareddrives/Whales-ML/subset/validation_subset/'\n",
    "else:\n",
    "    train_subset_dir = 'data/common_subset/train_subset/'\n",
    "    validation_subset_dir = 'data/common_subset/validation_subset/'\n",
    "    test_subset_dir = 'data/common_subset/test_subset/'"
   ]
  },
  {
   "cell_type": "code",
   "execution_count": 5,
   "id": "f229f0b7-a94b-481b-9b9c-88c3c5a00266",
   "metadata": {
    "id": "f229f0b7-a94b-481b-9b9c-88c3c5a00266",
    "jupyter": {
     "source_hidden": true
    },
    "tags": []
   },
   "outputs": [],
   "source": [
    "if redo == True:\n",
    "\n",
    "    os.mkdir(train_subset_dir)\n",
    "    os.mkdir(validation_subset_dir)\n",
    "\n",
    "    for i in range(0, len(sp_names)):\n",
    "        os.mkdir(train_subset_dir + sp_names[i])\n",
    "        os.mkdir(validation_subset_dir + sp_names[i])"
   ]
  },
  {
   "cell_type": "markdown",
   "id": "16557f53-feeb-42b4-ad8e-3ef9c0e1beeb",
   "metadata": {
    "id": "16557f53-feeb-42b4-ad8e-3ef9c0e1beeb"
   },
   "source": [
    "#### Copying files into new directory structure"
   ]
  },
  {
   "cell_type": "code",
   "execution_count": 6,
   "id": "f170b408-4a0f-4f9b-b061-36b4822cfe00",
   "metadata": {
    "id": "f170b408-4a0f-4f9b-b061-36b4822cfe00",
    "jupyter": {
     "source_hidden": true
    },
    "tags": []
   },
   "outputs": [],
   "source": [
    "if redo == True:\n",
    "\n",
    "    train_dir = 'data/train_images/'\n",
    "    train_nsamples = len(os.listdir(train_dir))\n",
    "\n",
    "    # randomly selecting 4000 training images and 1000 validation images\n",
    "    seed_value = 71993\n",
    "    random.seed(seed_value)\n",
    "    sample_indices = random.sample(range(0, train_nsamples), 5000)\n",
    "    train_indices = sample_indices[0:4000]\n",
    "    validation_indices = sample_indices[4000:5000]\n",
    "\n",
    "    train_subset_df = df.filter(items = train_indices, axis=0)\n",
    "    validation_subset_df = df.filter(items = validation_indices, axis=0)\n",
    "    \n",
    "    for sp in sp_names:\n",
    "        sp_df = train_subset_df[train_subset_df['species']==sp]\n",
    "\n",
    "        for i in range(0, len(sp_df)):\n",
    "            src = train_dir + sp_df['image'].iloc[i]\n",
    "            dst = train_subset_dir + sp + '/' + sp_df['image'].iloc[i]\n",
    "            shutil.copyfile(src, dst)\n",
    "\n",
    "        sp_df = validation_subset_df[validation_subset_df['species']==sp]\n",
    "\n",
    "        for i in range(0, len(sp_df)):\n",
    "            src = train_dir + sp_df['image'].iloc[i]\n",
    "            dst = validation_subset_dir + sp + '/' + sp_df['image'].iloc[i]\n",
    "            shutil.copyfile(src, dst)\n"
   ]
  },
  {
   "cell_type": "markdown",
   "id": "8c9ed63d-bdf1-4bb2-8991-149360f48d2e",
   "metadata": {
    "id": "8c9ed63d-bdf1-4bb2-8991-149360f48d2e"
   },
   "source": [
    "#### Looking at the representation of each species in the subset"
   ]
  },
  {
   "cell_type": "code",
   "execution_count": 7,
   "id": "1a72757a-f355-4b3f-bbf7-594be9f61f94",
   "metadata": {
    "colab": {
     "base_uri": "https://localhost:8080/"
    },
    "id": "1a72757a-f355-4b3f-bbf7-594be9f61f94",
    "outputId": "6fdd3d95-20f3-46b6-89f5-527691c081aa",
    "tags": []
   },
   "outputs": [
    {
     "name": "stdout",
     "output_type": "stream",
     "text": [
      "fin_whale: 24\n",
      "beluga: 157\n",
      "bottlenose_dolphin: 193\n",
      "humpback_whale: 121\n",
      "minke_whale: 23\n",
      "false_killer_whale: 63\n",
      "killer_whale: 39\n",
      "spinner_dolphin: 30\n",
      "blue_whale: 71\n",
      "dusky_dolphin: 52\n",
      "melon_headed_whale: 27\n",
      "----\n",
      "fin_whale: 6\n",
      "beluga: 32\n",
      "bottlenose_dolphin: 47\n",
      "humpback_whale: 35\n",
      "minke_whale: 3\n",
      "false_killer_whale: 12\n",
      "killer_whale: 15\n",
      "spinner_dolphin: 8\n",
      "blue_whale: 16\n",
      "dusky_dolphin: 18\n",
      "melon_headed_whale: 8\n"
     ]
    }
   ],
   "source": [
    "n_train = 0\n",
    "n_val = 0\n",
    "n_test = 0\n",
    "\n",
    "for sp in os.listdir(train_subset_dir):\n",
    "    sp_dir = train_subset_dir + sp\n",
    "    nsamples = len(os.listdir(sp_dir))\n",
    "    n_train += nsamples\n",
    "    print(f'{sp}: {nsamples}')\n",
    "    \n",
    "print('----')\n",
    "    \n",
    "for sp in os.listdir(validation_subset_dir):\n",
    "    sp_dir = validation_subset_dir + sp\n",
    "    nsamples = len(os.listdir(sp_dir))\n",
    "    n_val += nsamples\n",
    "    print(f'{sp}: {nsamples}')\n",
    "    \n",
    "for sp in os.listdir(test_subset_dir):\n",
    "    sp_dir = test_subset_dir + sp\n",
    "    nsamples = len(os.listdir(sp_dir))\n",
    "    n_test += nsamples"
   ]
  },
  {
   "cell_type": "markdown",
   "id": "7jM2Z2ikyjny",
   "metadata": {
    "id": "7jM2Z2ikyjny"
   },
   "source": [
    "## Data generator"
   ]
  },
  {
   "cell_type": "code",
   "execution_count": 23,
   "id": "r8-w1nJy4q2m",
   "metadata": {
    "colab": {
     "base_uri": "https://localhost:8080/"
    },
    "id": "r8-w1nJy4q2m",
    "outputId": "6e534094-b705-498a-96a8-a32124da0780"
   },
   "outputs": [
    {
     "name": "stdout",
     "output_type": "stream",
     "text": [
      "Found 800 images belonging to 11 classes.\n",
      "Found 200 images belonging to 11 classes.\n",
      "Found 100 images belonging to 11 classes.\n"
     ]
    }
   ],
   "source": [
    "from tensorflow.keras.preprocessing.image import ImageDataGenerator\n",
    "\n",
    "batch_size = 50\n",
    "\n",
    "\n",
    "train_steps = n_train // batch_size\n",
    "validation_steps = n_val // batch_size\n",
    "\n",
    "train_datagen = ImageDataGenerator(rescale=1./255)\n",
    "validation_datagen = ImageDataGenerator(rescale=1./255)\n",
    "test_datagen = ImageDataGenerator(rescale=1./255)\n",
    "\n",
    "target_size = (150, 150)\n",
    "\n",
    "train_generator = train_datagen.flow_from_directory(\n",
    "        train_subset_dir,\n",
    "        target_size=target_size,\n",
    "        batch_size=batch_size,\n",
    "        class_mode='categorical')\n",
    "\n",
    "validation_generator = validation_datagen.flow_from_directory(\n",
    "        validation_subset_dir,\n",
    "        target_size=target_size,\n",
    "        batch_size=batch_size,\n",
    "        class_mode='categorical')\n",
    "\n",
    "test_generator = test_datagen.flow_from_directory(\n",
    "        test_subset_dir,\n",
    "        target_size=target_size,\n",
    "        batch_size=n_test,\n",
    "        class_mode='categorical')\n",
    "\n",
    "n_class = train_generator.num_classes"
   ]
  },
  {
   "cell_type": "code",
   "execution_count": 18,
   "id": "iTtivIap5Cj7",
   "metadata": {
    "colab": {
     "base_uri": "https://localhost:8080/"
    },
    "id": "iTtivIap5Cj7",
    "outputId": "547a0d73-9d39-4013-d985-ee5efbeb0847"
   },
   "outputs": [
    {
     "name": "stdout",
     "output_type": "stream",
     "text": [
      "data batch shape: (30, 150, 150, 3)\n",
      "labels batch shape: (30, 11)\n"
     ]
    }
   ],
   "source": [
    "for data_batch, labels_batch in train_generator:\n",
    "    print('data batch shape:', data_batch.shape)\n",
    "    print('labels batch shape:', labels_batch.shape)\n",
    "    break"
   ]
  },
  {
   "cell_type": "markdown",
   "id": "962b26e8-2479-4efc-b7ee-834f16ea47c2",
   "metadata": {},
   "source": [
    "## Building network"
   ]
  },
  {
   "cell_type": "code",
   "execution_count": 11,
   "id": "GiiyNErG9CGA",
   "metadata": {
    "id": "GiiyNErG9CGA"
   },
   "outputs": [],
   "source": [
    "from tensorflow.keras import models\n",
    "from tensorflow.keras import layers\n",
    "\n",
    "# model = models.Sequential()\n",
    "# model.add(layers.Conv2D(32, (3, 3), activation='relu',\n",
    "#                         input_shape=(150, 150, 3)))\n",
    "# model.add(layers.MaxPooling2D((2, 2)))\n",
    "# model.add(layers.Conv2D(64, (3, 3), activation='relu'))\n",
    "# model.add(layers.MaxPooling2D((2, 2)))\n",
    "# model.add(layers.Conv2D(128, (3, 3), activation='relu'))\n",
    "# model.add(layers.MaxPooling2D((2, 2)))\n",
    "# model.add(layers.Conv2D(128, (3, 3), activation='relu'))\n",
    "# model.add(layers.MaxPooling2D((2, 2)))\n",
    "# model.add(layers.Flatten())\n",
    "# model.add(layers.Dense(512, activation='relu'))\n",
    "# model.add(layers.Dense(21, activation='softmax'))\n",
    "\n",
    "# model.compile(loss='categorical_crossentropy',\n",
    "#               optimizer=tf.keras.optimizers.RMSprop(learning_rate=1e-4),\n",
    "#               metrics=['acc'])"
   ]
  },
  {
   "cell_type": "code",
   "execution_count": 24,
   "id": "d340a51d-1b55-4bfe-ba45-848929fad1d5",
   "metadata": {},
   "outputs": [],
   "source": [
    "my_callbacks = [tf.keras.callbacks.ReduceLROnPlateau()]\n",
    "\n",
    "model = models.Sequential()\n",
    "\n",
    "model.add(layers.Conv2D(32, (6, 6), strides = (1, 1), input_shape = (150, 150, 3)))\n",
    "model.add(layers.BatchNormalization(axis = 3))\n",
    "model.add(layers.Activation('relu'))\n",
    "\n",
    "model.add(layers.MaxPooling2D((2, 2)))\n",
    "model.add(layers.Conv2D(64, (3, 3), strides = (1,1)))\n",
    "model.add(layers.Activation('relu'))\n",
    "model.add(layers.AveragePooling2D((3, 3)))\n",
    "# model.add(layers.Conv2D(128, (3, 3), strides = (1,1)))\n",
    "# model.add(layers.MaxPooling2D((2, 2)))\n",
    "\n",
    "model.add(layers.Flatten())\n",
    "model.add(layers.Dense(512, activation=\"relu\"))\n",
    "# model.add(layers.Dropout(0.85))\n",
    "\n",
    "model.add(layers.Dense(n_class, activation='softmax'))\n",
    "\n",
    "model.compile(loss='categorical_crossentropy',\n",
    "              optimizer=tf.keras.optimizers.Adam(learning_rate=1e-4),\n",
    "              metrics=['acc'])"
   ]
  },
  {
   "cell_type": "markdown",
   "id": "cfca3040-57ac-49d3-9d12-e60ef6d4d4c1",
   "metadata": {},
   "source": [
    "## Training and evaluating"
   ]
  },
  {
   "cell_type": "code",
   "execution_count": null,
   "id": "9YuI8Aoo8d9A",
   "metadata": {
    "colab": {
     "base_uri": "https://localhost:8080/",
     "height": 392
    },
    "id": "9YuI8Aoo8d9A",
    "outputId": "7cf1ac1b-bd82-46cf-cb03-0fbf45255dc8"
   },
   "outputs": [
    {
     "name": "stdout",
     "output_type": "stream",
     "text": [
      "Epoch 1/10\n",
      "16/16 [==============================] - 55s 3s/step - loss: 2.1302 - acc: 0.3446 - val_loss: 2.2620 - val_acc: 0.3150\n",
      "Epoch 2/10\n",
      "16/16 [==============================] - 52s 3s/step - loss: 1.3146 - acc: 0.5767 - val_loss: 2.2801 - val_acc: 0.2800\n",
      "Epoch 3/10\n",
      "16/16 [==============================] - 51s 3s/step - loss: 1.0488 - acc: 0.6479 - val_loss: 2.2089 - val_acc: 0.3300\n",
      "Epoch 4/10\n",
      "16/16 [==============================] - 52s 3s/step - loss: 0.7858 - acc: 0.7337 - val_loss: 2.1132 - val_acc: 0.3850\n",
      "Epoch 5/10\n",
      "16/16 [==============================] - 52s 3s/step - loss: 0.6329 - acc: 0.8135 - val_loss: 2.1097 - val_acc: 0.3300\n",
      "Epoch 6/10\n",
      "16/16 [==============================] - 52s 3s/step - loss: 0.4681 - acc: 0.8635 - val_loss: 2.0092 - val_acc: 0.3250\n",
      "Epoch 7/10\n",
      "16/16 [==============================] - 51s 3s/step - loss: 0.3732 - acc: 0.9097 - val_loss: 1.9399 - val_acc: 0.3700\n",
      "Epoch 8/10\n",
      "16/16 [==============================] - 52s 3s/step - loss: 0.2428 - acc: 0.9498 - val_loss: 1.9246 - val_acc: 0.4050\n",
      "Epoch 9/10\n",
      "16/16 [==============================] - 51s 3s/step - loss: 0.2287 - acc: 0.9551 - val_loss: 1.8179 - val_acc: 0.4450\n",
      "Epoch 10/10\n",
      "10/16 [=================>............] - ETA: 16s - loss: 0.1487 - acc: 0.9682"
     ]
    }
   ],
   "source": [
    "history = model.fit(\n",
    "      train_generator,\n",
    "      steps_per_epoch=train_steps,\n",
    "      epochs=10,\n",
    "      validation_data=validation_generator,\n",
    "      validation_steps=validation_steps,\n",
    "      callbacks=my_callbacks)"
   ]
  },
  {
   "cell_type": "code",
   "execution_count": 14,
   "id": "ixAQlxRM-WNH",
   "metadata": {
    "id": "ixAQlxRM-WNH"
   },
   "outputs": [
    {
     "data": {
      "text/plain": [
       "<matplotlib.legend.Legend at 0x7f6f4037c850>"
      ]
     },
     "execution_count": 14,
     "metadata": {},
     "output_type": "execute_result"
    },
    {
     "data": {
      "image/png": "[encoded data removed]",
      "text/plain": [
       "<Figure size 432x288 with 1 Axes>"
      ]
     },
     "metadata": {
      "needs_background": "light"
     },
     "output_type": "display_data"
    }
   ],
   "source": [
    "import matplotlib.pyplot as plt\n",
    "\n",
    "loss = history.history['loss']\n",
    "val_loss = history.history['val_loss']\n",
    "acc = history.history['acc']\n",
    "val_acc = history.history['val_acc']\n",
    "\n",
    "epochs = range(1, len(acc) + 1)\n",
    "\n",
    "plt.plot(epochs, acc, 'bo', label='Training acc')\n",
    "plt.plot(epochs, val_acc, 'b', label='Validation acc')\n",
    "plt.title('Training and validation accuracy')\n",
    "plt.xlabel('Epochs')\n",
    "plt.ylabel('Accuracy')\n",
    "plt.legend()"
   ]
  },
  {
   "cell_type": "code",
   "execution_count": 15,
   "id": "304885b0-32f5-4f99-b7c7-e10112c362bf",
   "metadata": {},
   "outputs": [
    {
     "data": {
      "text/plain": [
       "<matplotlib.legend.Legend at 0x7f6f40297bb0>"
      ]
     },
     "execution_count": 15,
     "metadata": {},
     "output_type": "execute_result"
    },
    {
     "data": {
      "image/png": "[encoded data removed]",
      "text/plain": [
       "<Figure size 432x288 with 1 Axes>"
      ]
     },
     "metadata": {
      "needs_background": "light"
     },
     "output_type": "display_data"
    }
   ],
   "source": [
    "plt.plot(epochs, loss, 'bo', label='Training loss')\n",
    "plt.plot(epochs, val_loss, 'b', label='Validation loss')\n",
    "plt.title('Training and validation loss')\n",
    "plt.xlabel('Epochs')\n",
    "plt.ylabel('Loss')\n",
    "plt.legend()"
   ]
  },
  {
   "cell_type": "code",
   "execution_count": 16,
   "id": "c884378d-f7df-4dea-8b19-f8b94efdb954",
   "metadata": {},
   "outputs": [
    {
     "name": "stdout",
     "output_type": "stream",
     "text": [
      "1/1 [==============================] - 6s 6s/step - loss: 1.5535 - acc: 0.4800\n",
      "Test accuracy: 0.47999998927116394\n"
     ]
    }
   ],
   "source": [
    "test_results = model.evaluate(test_generator)\n",
    "test_acc = test_results[1]\n",
    "print(f\"Test accuracy: {test_acc}\")"
   ]
  }
 ],
 "metadata": {
  "colab": {
   "name": "data_preprocessing.ipynb",
   "provenance": []
  },
  "kernelspec": {
   "display_name": "Python 3 (ipykernel)",
   "language": "python",
   "name": "python3"
  },
  "language_info": {
   "codemirror_mode": {
    "name": "ipython",
    "version": 3
   },
   "file_extension": ".py",
   "mimetype": "text/x-python",
   "name": "python",
   "nbconvert_exporter": "python",
   "pygments_lexer": "ipython3",
   "version": "3.8.12"
  }
 },
 "nbformat": 4,
 "nbformat_minor": 5
}
